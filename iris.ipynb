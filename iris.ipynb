{
 "cells": [
  {
   "cell_type": "code",
   "execution_count": 1,
   "source": [
    "# import data\n",
    "import pandas as pd\n",
    "import tensorflow as tf"
   ],
   "outputs": [],
   "metadata": {}
  },
  {
   "cell_type": "code",
   "execution_count": 2,
   "source": [
    "path = 'https://raw.githubusercontent.com/blackdew/tensorflow1/master/csv/iris.csv'\n",
    "iris = pd.read_csv(path)\n",
    "iris.head()"
   ],
   "outputs": [
    {
     "output_type": "execute_result",
     "data": {
      "text/plain": [
       "   꽃잎길이  꽃잎폭  꽃받침길이  꽃받침폭      품종\n",
       "0   5.1  3.5    1.4   0.2  setosa\n",
       "1   4.9  3.0    1.4   0.2  setosa\n",
       "2   4.7  3.2    1.3   0.2  setosa\n",
       "3   4.6  3.1    1.5   0.2  setosa\n",
       "4   5.0  3.6    1.4   0.2  setosa"
      ],
      "text/html": [
       "<div>\n",
       "<style scoped>\n",
       "    .dataframe tbody tr th:only-of-type {\n",
       "        vertical-align: middle;\n",
       "    }\n",
       "\n",
       "    .dataframe tbody tr th {\n",
       "        vertical-align: top;\n",
       "    }\n",
       "\n",
       "    .dataframe thead th {\n",
       "        text-align: right;\n",
       "    }\n",
       "</style>\n",
       "<table border=\"1\" class=\"dataframe\">\n",
       "  <thead>\n",
       "    <tr style=\"text-align: right;\">\n",
       "      <th></th>\n",
       "      <th>꽃잎길이</th>\n",
       "      <th>꽃잎폭</th>\n",
       "      <th>꽃받침길이</th>\n",
       "      <th>꽃받침폭</th>\n",
       "      <th>품종</th>\n",
       "    </tr>\n",
       "  </thead>\n",
       "  <tbody>\n",
       "    <tr>\n",
       "      <th>0</th>\n",
       "      <td>5.1</td>\n",
       "      <td>3.5</td>\n",
       "      <td>1.4</td>\n",
       "      <td>0.2</td>\n",
       "      <td>setosa</td>\n",
       "    </tr>\n",
       "    <tr>\n",
       "      <th>1</th>\n",
       "      <td>4.9</td>\n",
       "      <td>3.0</td>\n",
       "      <td>1.4</td>\n",
       "      <td>0.2</td>\n",
       "      <td>setosa</td>\n",
       "    </tr>\n",
       "    <tr>\n",
       "      <th>2</th>\n",
       "      <td>4.7</td>\n",
       "      <td>3.2</td>\n",
       "      <td>1.3</td>\n",
       "      <td>0.2</td>\n",
       "      <td>setosa</td>\n",
       "    </tr>\n",
       "    <tr>\n",
       "      <th>3</th>\n",
       "      <td>4.6</td>\n",
       "      <td>3.1</td>\n",
       "      <td>1.5</td>\n",
       "      <td>0.2</td>\n",
       "      <td>setosa</td>\n",
       "    </tr>\n",
       "    <tr>\n",
       "      <th>4</th>\n",
       "      <td>5.0</td>\n",
       "      <td>3.6</td>\n",
       "      <td>1.4</td>\n",
       "      <td>0.2</td>\n",
       "      <td>setosa</td>\n",
       "    </tr>\n",
       "  </tbody>\n",
       "</table>\n",
       "</div>"
      ]
     },
     "metadata": {},
     "execution_count": 2
    }
   ],
   "metadata": {}
  },
  {
   "cell_type": "code",
   "execution_count": 3,
   "source": [
    "# onehotincoding\n",
    "incode = pd.get_dummies(iris)\n",
    "incode.head()\n",
    "print(incode.columns)"
   ],
   "outputs": [
    {
     "output_type": "stream",
     "name": "stdout",
     "text": [
      "Index(['꽃잎길이', '꽃잎폭', '꽃받침길이', '꽃받침폭', '품종_setosa', '품종_versicolor',\n",
      "       '품종_virginica'],\n",
      "      dtype='object')\n"
     ]
    }
   ],
   "metadata": {}
  },
  {
   "cell_type": "code",
   "execution_count": 4,
   "source": [
    "# divide\n",
    "alone = incode[['꽃잎길이', '꽃잎폭', '꽃받침길이', '꽃받침폭']]\n",
    "depand = incode[['품종_setosa', '품종_versicolor', '품종_virginica']]\n",
    "print(alone.shape, depand.shape)"
   ],
   "outputs": [
    {
     "output_type": "stream",
     "name": "stdout",
     "text": [
      "(150, 4) (150, 3)\n"
     ]
    }
   ],
   "metadata": {}
  },
  {
   "cell_type": "code",
   "execution_count": 24,
   "source": [
    "X = tf.keras.layers.Input(shape=[4])\n",
    "H = tf.keras.layers.Dense(8)(X)\n",
    "H = tf.keras.layers.BatchNormalization()(H)\n",
    "H = tf.keras.layers.Activation('swish')(H)\n",
    "H = tf.keras.layers.Dense(8)(H)\n",
    "H = tf.keras.layers.BatchNormalization()(H)\n",
    "H = tf.keras.layers.Activation('swish')(H)\n",
    "H = tf.keras.layers.Dense(8)(X)\n",
    "H = tf.keras.layers.BatchNormalization()(H)\n",
    "H = tf.keras.layers.Activation('swish')(H)\n",
    "Y = tf.keras.layers.Dense(3, activation='softmax')(H)\n",
    "model = tf.keras.models.Model(X, Y)\n",
    "model.compile(loss='categorical_crossentropy', metrics='accuracy')"
   ],
   "outputs": [],
   "metadata": {}
  },
  {
   "cell_type": "code",
   "execution_count": 25,
   "source": [
    "# learn model\n",
    "model.fit(alone, depand, epochs=1000, verbose=0)\n",
    "model.fit(alone, depand, epochs=10)"
   ],
   "outputs": [
    {
     "output_type": "stream",
     "name": "stdout",
     "text": [
      "Epoch 1/10\n",
      "5/5 [==============================] - 0s 1ms/step - loss: 0.1019 - accuracy: 0.9467\n",
      "Epoch 2/10\n",
      "5/5 [==============================] - 0s 2ms/step - loss: 0.0856 - accuracy: 0.9533\n",
      "Epoch 3/10\n",
      "5/5 [==============================] - 0s 1ms/step - loss: 0.1130 - accuracy: 0.9400\n",
      "Epoch 4/10\n",
      "5/5 [==============================] - 0s 2ms/step - loss: 0.0690 - accuracy: 0.9800\n",
      "Epoch 5/10\n",
      "5/5 [==============================] - 0s 2ms/step - loss: 0.0699 - accuracy: 0.9867\n",
      "Epoch 6/10\n",
      "5/5 [==============================] - 0s 2ms/step - loss: 0.0695 - accuracy: 0.9800\n",
      "Epoch 7/10\n",
      "5/5 [==============================] - 0s 3ms/step - loss: 0.0790 - accuracy: 0.9733\n",
      "Epoch 8/10\n",
      "5/5 [==============================] - 0s 4ms/step - loss: 0.0673 - accuracy: 0.9800\n",
      "Epoch 9/10\n",
      "5/5 [==============================] - 0s 2ms/step - loss: 0.0714 - accuracy: 0.9800\n",
      "Epoch 10/10\n",
      "5/5 [==============================] - 0s 5ms/step - loss: 0.0739 - accuracy: 0.9733\n"
     ]
    },
    {
     "output_type": "execute_result",
     "data": {
      "text/plain": [
       "<tensorflow.python.keras.callbacks.History at 0x15d613d60>"
      ]
     },
     "metadata": {},
     "execution_count": 25
    }
   ],
   "metadata": {}
  },
  {
   "cell_type": "code",
   "execution_count": 16,
   "source": [
    "model.predict(alone[0:5])"
   ],
   "outputs": [
    {
     "output_type": "execute_result",
     "data": {
      "text/plain": [
       "array([[9.9999201e-01, 8.9295057e-08, 7.9158353e-06],\n",
       "       [9.9999535e-01, 5.1062308e-08, 4.5958163e-06],\n",
       "       [9.9999523e-01, 5.6449064e-08, 4.7678122e-06],\n",
       "       [9.9999547e-01, 4.7793353e-08, 4.5461052e-06],\n",
       "       [9.9999011e-01, 1.0715835e-07, 9.7784632e-06]], dtype=float32)"
      ]
     },
     "metadata": {},
     "execution_count": 16
    }
   ],
   "metadata": {}
  },
  {
   "cell_type": "code",
   "execution_count": 17,
   "source": [
    "print(depand[0:5])"
   ],
   "outputs": [
    {
     "output_type": "stream",
     "name": "stdout",
     "text": [
      "   품종_setosa  품종_versicolor  품종_virginica\n",
      "0          1              0             0\n",
      "1          1              0             0\n",
      "2          1              0             0\n",
      "3          1              0             0\n",
      "4          1              0             0\n"
     ]
    }
   ],
   "metadata": {}
  },
  {
   "cell_type": "code",
   "execution_count": 18,
   "source": [
    "# \n",
    "model.get_weights()"
   ],
   "outputs": [
    {
     "output_type": "execute_result",
     "data": {
      "text/plain": [
       "[array([[-0.30277982,  0.38231775,  0.34445643,  0.34524176, -0.13765483],\n",
       "        [-0.07709859,  0.20896997,  0.5410608 ,  0.64214957,  0.45320058],\n",
       "        [ 0.83643293,  0.40732402, -1.0099665 , -1.027654  , -0.16824262],\n",
       "        [ 0.6072803 , -0.33364156, -0.9622062 , -1.1695988 , -1.3828335 ]],\n",
       "       dtype=float32),\n",
       " array([-0.54779196,  0.28127712,  0.31277326,  0.46849668,  0.32526955],\n",
       "       dtype=float32),\n",
       " array([[-0.85652053, -0.9743365 , -1.1014377 , -0.68760496, -0.59747654],\n",
       "        [ 0.3514095 , -0.34302247, -0.2110254 , -0.5337259 , -0.6978659 ],\n",
       "        [-1.9925256 , -0.7137394 , -0.62934816, -0.7077198 , -0.07301335],\n",
       "        [-1.6374428 ,  0.21801068, -0.14206322,  0.5701136 ,  0.3540807 ],\n",
       "        [-1.3769231 , -1.0328423 , -0.1143641 , -1.1186833 , -1.1441773 ]],\n",
       "       dtype=float32),\n",
       " array([0.47253224, 0.7307266 , 0.83594674, 0.6160676 , 0.56841874],\n",
       "       dtype=float32),\n",
       " array([[ 1.7326628 , -1.097973  , -1.7992691 ,  0.13747892, -1.4760573 ],\n",
       "        [-1.5988522 , -1.2183928 , -2.9141533 ,  1.1019552 , -1.6768776 ],\n",
       "        [-1.2900609 , -1.6713653 , -1.2691945 ,  0.6279336 , -1.8160418 ],\n",
       "        [-1.3197412 , -0.25466055, -2.936886  ,  0.9500248 , -1.6714444 ],\n",
       "        [-1.1618444 , -0.5159629 , -3.5790055 ,  1.3959374 , -2.2789652 ]],\n",
       "       dtype=float32),\n",
       " array([-0.4234143 ,  1.1677206 , -1.0012496 ,  1.2823862 ,  0.18127537],\n",
       "       dtype=float32),\n",
       " array([[-1.2445197 ,  2.0708635 , -1.308035  ],\n",
       "        [-1.387693  , -2.2544947 ,  0.35436052],\n",
       "        [ 4.9231706 ,  0.0274253 , -1.3212911 ],\n",
       "        [-4.6299896 , -0.5477381 ,  1.1444304 ],\n",
       "        [ 4.2948685 , -1.7865847 , -0.69057965]], dtype=float32),\n",
       " array([-3.9024367 , -0.79982173,  1.1002495 ], dtype=float32)]"
      ]
     },
     "metadata": {},
     "execution_count": 18
    }
   ],
   "metadata": {}
  },
  {
   "cell_type": "code",
   "execution_count": null,
   "source": [],
   "outputs": [],
   "metadata": {}
  }
 ],
 "metadata": {
  "orig_nbformat": 4,
  "language_info": {
   "name": "python",
   "version": "3.9.4",
   "mimetype": "text/x-python",
   "codemirror_mode": {
    "name": "ipython",
    "version": 3
   },
   "pygments_lexer": "ipython3",
   "nbconvert_exporter": "python",
   "file_extension": ".py"
  },
  "kernelspec": {
   "name": "python3",
   "display_name": "Python 3.9.4 64-bit"
  },
  "interpreter": {
   "hash": "aee8b7b246df8f9039afb4144a1f6fd8d2ca17a180786b69acc140d282b71a49"
  }
 },
 "nbformat": 4,
 "nbformat_minor": 2
}